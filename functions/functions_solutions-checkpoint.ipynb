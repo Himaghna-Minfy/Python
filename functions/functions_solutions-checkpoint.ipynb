{
 "cells": [
  {
   "cell_type": "code",
   "execution_count": 6,
   "id": "07abb187-6662-4249-94eb-2c8d9eefd427",
   "metadata": {},
   "outputs": [
    {
     "name": "stdout",
     "output_type": "stream",
     "text": [
      "12.5\n",
      "0\n"
     ]
    }
   ],
   "source": [
    "def calculate_average(number):\n",
    "    if not number:\n",
    "        return 0\n",
    "    return sum(number)/len(number)\n",
    "\n",
    "# Example usage:\n",
    "print(calculate_average([5, 10, 15, 20]))  # Should return 12.5\n",
    "print(calculate_average([]))  # Should return 0\n"
   ]
  },
  {
   "cell_type": "code",
   "execution_count": 10,
   "id": "861a2104-12ec-4a45-b606-0664df0ec6e6",
   "metadata": {},
   "outputs": [
    {
     "name": "stdout",
     "output_type": "stream",
     "text": [
      "Hello,Alice\n",
      "Hi,Bob\n"
     ]
    }
   ],
   "source": [
    "def greet_user(name,greeting=\"Hello\"):\n",
    "    return f\"{greeting},{name}\"\n",
    "\n",
    "# Example usage:\n",
    "print(greet_user(\"Alice\"))  # Should return \"Hello, Alice!\"\n",
    "print(greet_user(\"Bob\", \"Hi\"))  # Should return \"Hi, Bob!\"\n"
   ]
  },
  {
   "cell_type": "code",
   "execution_count": 14,
   "id": "a392361c-b2cb-43f8-9ffa-7939f9b36db1",
   "metadata": {},
   "outputs": [
    {
     "name": "stdout",
     "output_type": "stream",
     "text": [
      "60\n",
      "54.0\n"
     ]
    }
   ],
   "source": [
    "def calculate_total(*prices, discount=0):\n",
    "    total=sum(prices)\n",
    "    if discount:\n",
    "        total-=total*(discount/100)\n",
    "    return total\n",
    "\n",
    "# Example usage:\n",
    "print(calculate_total(10, 20, 30))  # Should return 60\n",
    "print(calculate_total(10, 20, 30, discount=10))  # Should return 54 (10% off)\n"
   ]
  },
  {
   "cell_type": "code",
   "execution_count": 17,
   "id": "a0fdb0de-8ae9-4295-a75b-fac1dd961573",
   "metadata": {},
   "outputs": [
    {
     "name": "stdout",
     "output_type": "stream",
     "text": [
      "10\n",
      "12\n"
     ]
    }
   ],
   "source": [
    "def create_multiplier(factor):\n",
    "    def multiplier(number):\n",
    "        return number*factor\n",
    "    return multiplier\n",
    "\n",
    "double = create_multiplier(2)\n",
    "print(double(5))  # Output: 10\n",
    "\n",
    "triple = create_multiplier(3)\n",
    "print(triple(4))  # Output: 12\n"
   ]
  },
  {
   "cell_type": "code",
   "execution_count": null,
   "id": "ff264b20-44a6-40df-b7bc-8f921093a42d",
   "metadata": {},
   "outputs": [],
   "source": []
  }
 ],
 "metadata": {
  "kernelspec": {
   "display_name": "Python [conda env:base] *",
   "language": "python",
   "name": "conda-base-py"
  },
  "language_info": {
   "codemirror_mode": {
    "name": "ipython",
    "version": 3
   },
   "file_extension": ".py",
   "mimetype": "text/x-python",
   "name": "python",
   "nbconvert_exporter": "python",
   "pygments_lexer": "ipython3",
   "version": "3.12.7"
  }
 },
 "nbformat": 4,
 "nbformat_minor": 5
}
