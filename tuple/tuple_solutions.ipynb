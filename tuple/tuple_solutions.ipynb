{
 "cells": [
  {
   "cell_type": "code",
   "execution_count": 6,
   "id": "39ff10a1-0882-49e7-ae68-7169ad382a47",
   "metadata": {},
   "outputs": [
    {
     "name": "stdout",
     "output_type": "stream",
     "text": [
      "(2, 1, 4, 3)\n",
      "(2, 1, 3)\n"
     ]
    }
   ],
   "source": [
    "def swap_pairs(t):\n",
    "    result = []\n",
    "    for i in range(0, len(t) - 1, 2):\n",
    "        result.extend([t[i + 1], t[i]])\n",
    "    if len(t) % 2 != 0:\n",
    "        result.append(t[-1])\n",
    "    return tuple(result)\n",
    "\n",
    "# Example usage:\n",
    "print(swap_pairs((1, 2, 3, 4)))  # (2, 1, 4, 3)\n",
    "print(swap_pairs((1, 2, 3)))     # (2, 1, 3)\n"
   ]
  },
  {
   "cell_type": "code",
   "execution_count": 7,
   "id": "b047c252-5a98-43e9-96b9-220e3e1cac68",
   "metadata": {},
   "outputs": [
    {
     "name": "stdout",
     "output_type": "stream",
     "text": [
      "(1, 5, 15, 3.0)\n"
     ]
    }
   ],
   "source": [
    "def get_stats(numbers):\n",
    "    if not numbers:\n",
    "        return (None, None, 0, 0.0)\n",
    "    minimum = min(numbers)\n",
    "    maximum = max(numbers)\n",
    "    total = sum(numbers)\n",
    "    average = total / len(numbers)\n",
    "    return (minimum, maximum, total, average)\n",
    "\n",
    "# Example usage:\n",
    "print(get_stats([1, 2, 3, 4, 5]))  # (1, 5, 15, 3.0)\n"
   ]
  },
  {
   "cell_type": "code",
   "execution_count": 8,
   "id": "4c608190-f83a-408e-8e30-e769170f1707",
   "metadata": {},
   "outputs": [
    {
     "name": "stdout",
     "output_type": "stream",
     "text": [
      "Student(name='Charlie', age=21, grades=(90, 92, 93))\n"
     ]
    }
   ],
   "source": [
    "from collections import namedtuple\n",
    "\n",
    "Student = namedtuple('Student', ['name', 'age', 'grades'])\n",
    "\n",
    "def top_student(students):\n",
    "    return max(students, key=lambda s: sum(s.grades) / len(s.grades))\n",
    "\n",
    "# Example usage:\n",
    "alice = Student(\"Alice\", 20, (85, 90, 95))\n",
    "bob = Student(\"Bob\", 19, (70, 80, 90))\n",
    "charlie = Student(\"Charlie\", 21, (90, 92, 93))\n",
    "\n",
    "print(top_student([alice, bob, charlie]))  # Should return Charlie's tuple\n"
   ]
  },
  {
   "cell_type": "code",
   "execution_count": 9,
   "id": "60ccf1ba-70ff-4fbb-a2a9-d30d9c35c3ab",
   "metadata": {},
   "outputs": [
    {
     "name": "stdout",
     "output_type": "stream",
     "text": [
      "{(1, 2): 3, (3, 4): 2, (5, 6): 1}\n"
     ]
    }
   ],
   "source": [
    "def count_coordinate_occurrences(coords):\n",
    "    coord_count = {}\n",
    "    for coord in coords:\n",
    "        coord_count[coord] = coord_count.get(coord, 0) + 1\n",
    "    return coord_count\n",
    "\n",
    "# Example usage:\n",
    "coords = [(1, 2), (3, 4), (1, 2), (5, 6), (3, 4), (1, 2)]\n",
    "print(count_coordinate_occurrences(coords))\n",
    "# Output: {(1, 2): 3, (3, 4): 2, (5, 6): 1}\n"
   ]
  },
  {
   "cell_type": "code",
   "execution_count": null,
   "id": "34e2ced4-ef26-4df4-96ff-7d0d6e9d76e4",
   "metadata": {},
   "outputs": [],
   "source": []
  },
  {
   "cell_type": "code",
   "execution_count": null,
   "id": "4e2175fe-a194-433b-adf5-4162b10a466f",
   "metadata": {},
   "outputs": [],
   "source": []
  }
 ],
 "metadata": {
  "kernelspec": {
   "display_name": "Python [conda env:base] *",
   "language": "python",
   "name": "conda-base-py"
  },
  "language_info": {
   "codemirror_mode": {
    "name": "ipython",
    "version": 3
   },
   "file_extension": ".py",
   "mimetype": "text/x-python",
   "name": "python",
   "nbconvert_exporter": "python",
   "pygments_lexer": "ipython3",
   "version": "3.12.7"
  }
 },
 "nbformat": 4,
 "nbformat_minor": 5
}
