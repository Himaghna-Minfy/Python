{
 "cells": [
  {
   "cell_type": "code",
   "execution_count": 1,
   "id": "c3130bcf-805e-4501-9d98-e3ce60f0603f",
   "metadata": {},
   "outputs": [
    {
     "name": "stdout",
     "output_type": "stream",
     "text": [
      "{1: 'a', 2: 'b', 3: 'c'}\n"
     ]
    }
   ],
   "source": [
    "def invert_dictionary(d):\n",
    "    return {v: k for k, v in d.items()}\n",
    "\n",
    "# Example usage:\n",
    "print(invert_dictionary({\"a\": 1, \"b\": 2, \"c\": 3}))  # {1: \"a\", 2: \"b\", 3: \"c\"}\n"
   ]
  },
  {
   "cell_type": "code",
   "execution_count": 2,
   "id": "ccc67720-58eb-4383-b9df-0d13b78e19cc",
   "metadata": {},
   "outputs": [
    {
     "name": "stdout",
     "output_type": "stream",
     "text": [
      "{'a': 1, 'b': 3, 'c': 4}\n"
     ]
    }
   ],
   "source": [
    "def merge_dictionaries(dict1, dict2):\n",
    "    return {**dict1, **dict2}\n",
    "\n",
    "# Example usage:\n",
    "dict1 = {\"a\": 1, \"b\": 2}\n",
    "dict2 = {\"b\": 3, \"c\": 4}\n",
    "print(merge_dictionaries(dict1, dict2))  # {\"a\": 1, \"b\": 3, \"c\": 4}\n"
   ]
  },
  {
   "cell_type": "code",
   "execution_count": 3,
   "id": "22d46cae-2f61-429d-8d01-f82b0c4a8fe4",
   "metadata": {},
   "outputs": [
    {
     "name": "stdout",
     "output_type": "stream",
     "text": [
      "{'brown': 1, 'fox': 1, 'over': 1, 'the': 3, 'jumps': 1, 'dog': 1, 'lazy': 1, 'quick': 1}\n"
     ]
    }
   ],
   "source": [
    "def word_frequencies(text):\n",
    "    words = text.split()\n",
    "    return {word: words.count(word) for word in set(words)}\n",
    "\n",
    "# Example usage:\n",
    "text = \"the quick brown fox jumps over the lazy dog the\"\n",
    "print(word_frequencies(text))\n",
    "# {\"the\": 2, \"quick\": 1, \"brown\": 1, \"fox\": 1, \"jumps\": 1, \"over\": 1, \"lazy\": 1, \"dog\": 1}\n"
   ]
  },
  {
   "cell_type": "code",
   "execution_count": 4,
   "id": "bb2c7f5e-a91d-4c85-995f-8eb0278f134b",
   "metadata": {},
   "outputs": [
    {
     "name": "stdout",
     "output_type": "stream",
     "text": [
      "{'Alice': {'phone': '123-456-7890', 'email': 'alice@example.com', 'address': '123 Main St'}, 'Bob': {'phone': '987-654-3210'}}\n"
     ]
    }
   ],
   "source": [
    "def add_contact(contacts, name, **info):\n",
    "    if name not in contacts:\n",
    "        contacts[name] = {}\n",
    "    contacts[name].update(info)\n",
    "\n",
    "# Example usage:\n",
    "contacts = {}\n",
    "add_contact(contacts, \"Alice\", phone=\"123-456-7890\", email=\"alice@example.com\")\n",
    "add_contact(contacts, \"Bob\", phone=\"987-654-3210\")\n",
    "add_contact(contacts, \"Alice\", address=\"123 Main St\")\n",
    "\n",
    "print(contacts)\n",
    "# {\n",
    "#   \"Alice\": {\"phone\": \"123-456-7890\", \"email\": \"alice@example.com\", \"address\": \"123 Main St\"},\n",
    "#   \"Bob\": {\"phone\": \"987-654-3210\"}\n",
    "# }\n"
   ]
  },
  {
   "cell_type": "code",
   "execution_count": null,
   "id": "6377df0b-772c-4e3c-93c0-0354f4471460",
   "metadata": {},
   "outputs": [],
   "source": []
  }
 ],
 "metadata": {
  "kernelspec": {
   "display_name": "Python [conda env:base] *",
   "language": "python",
   "name": "conda-base-py"
  },
  "language_info": {
   "codemirror_mode": {
    "name": "ipython",
    "version": 3
   },
   "file_extension": ".py",
   "mimetype": "text/x-python",
   "name": "python",
   "nbconvert_exporter": "python",
   "pygments_lexer": "ipython3",
   "version": "3.12.7"
  }
 },
 "nbformat": 4,
 "nbformat_minor": 5
}
