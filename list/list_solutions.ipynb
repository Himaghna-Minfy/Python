{
 "cells": [
  {
   "cell_type": "code",
   "execution_count": 2,
   "id": "72bec00a-03f9-4462-b01d-cc78bea0fa01",
   "metadata": {},
   "outputs": [
    {
     "name": "stdout",
     "output_type": "stream",
     "text": [
      "[2, 4, 6]\n",
      "[]\n"
     ]
    }
   ],
   "source": [
    "def filter_even_numbers(numbers):\n",
    "    return [num for num in numbers if num % 2 == 0]\n",
    "\n",
    "# Example usage:\n",
    "print(filter_even_numbers([1, 2, 3, 4, 5, 6]))  # [2, 4, 6]\n",
    "print(filter_even_numbers([1, 3, 5]))           # []"
   ]
  },
  {
   "cell_type": "code",
   "execution_count": 3,
   "id": "f45722fa-d9fc-49b6-9956-ebb64352ab71",
   "metadata": {},
   "outputs": [
    {
     "name": "stdout",
     "output_type": "stream",
     "text": [
      "[1, 2, 3, 4, 5, 6]\n",
      "[1, 2, 3, 4, 5, 6]\n"
     ]
    }
   ],
   "source": [
    "def merge_sorted_lists(list1, list2):\n",
    "    return sorted(list1 + list2)\n",
    "\n",
    "# Example usage:\n",
    "print(merge_sorted_lists([1, 3, 5], [2, 4, 6]))  # [1, 2, 3, 4, 5, 6]\n",
    "print(merge_sorted_lists([1, 2, 3], [4, 5, 6]))  # [1, 2, 3, 4, 5, 6]\n"
   ]
  },
  {
   "cell_type": "code",
   "execution_count": 4,
   "id": "cfe091ef-247d-4737-86cf-a1a715357323",
   "metadata": {},
   "outputs": [
    {
     "name": "stdout",
     "output_type": "stream",
     "text": [
      "[[0, 0, 0], [0, 1, 2], [0, 2, 4]]\n"
     ]
    }
   ],
   "source": [
    "def generate_matrix(n, m):\n",
    "    return [[i * j for j in range(m)] for i in range(n)]\n",
    "\n",
    "# Example usage:\n",
    "print(generate_matrix(3, 3))\n",
    "# Output:\n",
    "# [\n",
    "#   [0, 0, 0],\n",
    "#   [0, 1, 2],\n",
    "#   [0, 2, 4]\n",
    "# ]\n"
   ]
  },
  {
   "cell_type": "code",
   "execution_count": 5,
   "id": "9ee5086b-d511-4b22-9a00-fc10fc33275f",
   "metadata": {},
   "outputs": [
    {
     "name": "stdout",
     "output_type": "stream",
     "text": [
      "[[1, 4], [2, 5], [3, 6]]\n"
     ]
    }
   ],
   "source": [
    "def transpose_matrix(matrix):\n",
    "    return [list(row) for row in zip(*matrix)]\n",
    "\n",
    "# Example usage:\n",
    "matrix = [\n",
    "    [1, 2, 3],\n",
    "    [4, 5, 6]\n",
    "]\n",
    "print(transpose_matrix(matrix))\n",
    "# Output:\n",
    "# [\n",
    "#   [1, 4],\n",
    "#   [2, 5],\n",
    "#   [3, 6]\n",
    "# ]\n"
   ]
  },
  {
   "cell_type": "code",
   "execution_count": null,
   "id": "296f19a5-7543-496d-9eb8-54d1890a5217",
   "metadata": {},
   "outputs": [],
   "source": []
  }
 ],
 "metadata": {
  "kernelspec": {
   "display_name": "Python [conda env:base] *",
   "language": "python",
   "name": "conda-base-py"
  },
  "language_info": {
   "codemirror_mode": {
    "name": "ipython",
    "version": 3
   },
   "file_extension": ".py",
   "mimetype": "text/x-python",
   "name": "python",
   "nbconvert_exporter": "python",
   "pygments_lexer": "ipython3",
   "version": "3.12.7"
  }
 },
 "nbformat": 4,
 "nbformat_minor": 5
}
